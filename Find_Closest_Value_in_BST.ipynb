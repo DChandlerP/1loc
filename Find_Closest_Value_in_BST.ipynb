{
  "nbformat": 4,
  "nbformat_minor": 0,
  "metadata": {
    "colab": {
      "name": "Find Closest Value in BST",
      "provenance": [],
      "authorship_tag": "ABX9TyPxamRdKVDWd9yZwMQfrRW1",
      "include_colab_link": true
    },
    "kernelspec": {
      "name": "python3",
      "display_name": "Python 3"
    }
  },
  "cells": [
    {
      "cell_type": "markdown",
      "metadata": {
        "id": "view-in-github",
        "colab_type": "text"
      },
      "source": [
        "<a href=\"https://colab.research.google.com/github/DChandlerP/1loc/blob/master/Find_Closest_Value_in_BST.ipynb\" target=\"_parent\"><img src=\"https://colab.research.google.com/assets/colab-badge.svg\" alt=\"Open In Colab\"/></a>"
      ]
    },
    {
      "cell_type": "markdown",
      "metadata": {
        "id": "VVR3Pyra5jgP"
      },
      "source": [
        "## Solution with Recursion"
      ]
    },
    {
      "cell_type": "code",
      "metadata": {
        "colab": {
          "base_uri": "https://localhost:8080/"
        },
        "id": "6lcQP829Ys5z",
        "outputId": "63910847-0daa-4279-a3f5-66a29d17484b"
      },
      "source": [
        "import unittest\n",
        "\n",
        "def findClosestValueInBst(tree, target):\n",
        "  return findClosestValueInBstHelper(tree, target, tree.value)\n",
        "\n",
        "def findClosestValueInBstHelper(tree, target, closest):\n",
        "  print(\"target: %d, closest: %d\" % (target, closest))\n",
        "  if tree is None:\n",
        "    print(\"No Tree here!\")\n",
        "    return closest\n",
        "  if abs(target - closest) > abs(target - tree.value):\n",
        "    print(\"closest is now tree.value:\", tree.value)\n",
        "    closest = tree.value \n",
        "  if target < tree.value:\n",
        "    print(\"target is %d which is < tree.value %d: GO LEFT\" % (target, tree.value))\n",
        "    return findClosestValueInBstHelper(tree.left, target, closest)\n",
        "  elif target > tree.value:\n",
        "    print(\"target is %d which is > tree.value %d: GO RIGHT\" % (target, tree.value))\n",
        "    return findClosestValueInBstHelper(tree.right, target, closest)\n",
        "  else: #logically if it's not < or > than it is ==\n",
        "    print(\"equal\")\n",
        "    return closest \n",
        "\n",
        "# This is the class of the input tree. Do not edit.\n",
        "class BST:\n",
        "    def __init__(self, value):\n",
        "        self.value = value\n",
        "        self.left = None\n",
        "        self.right = None\n",
        "\n",
        "class TestProgram(unittest.TestCase):\n",
        "    def test_case_1(self):\n",
        "        root = BST(10)\n",
        "        root.left = BST(5)\n",
        "        root.left.left = BST(2)\n",
        "        root.left.left.left = BST(1)\n",
        "        root.left.right = BST(5)\n",
        "        root.right = BST(15)\n",
        "        root.right.left = BST(13)\n",
        "        root.right.left.right = BST(14)\n",
        "        root.right.right = BST(22)\n",
        "        expected = 13\n",
        "        actual = findClosestValueInBst(root, 12)\n",
        "        print(\"TEST! actual: %d, expected: %d\" % (actual, expected))\n",
        "        self.assertEqual(expected, actual)\n",
        "\n",
        "\n",
        "if __name__ == '__main__':\n",
        "    unittest.main(argv=['first-arg-is-ignored'], exit=False) # Must be included for a unit test to run in Jupyter."
      ],
      "execution_count": 41,
      "outputs": [
        {
          "output_type": "stream",
          "text": [
            "."
          ],
          "name": "stderr"
        },
        {
          "output_type": "stream",
          "text": [
            "target: 12, closest: 10\n",
            "target is 12 which is > tree.value 10: GO RIGHT\n",
            "target: 12, closest: 10\n",
            "target is 12 which is < tree.value 15: GO LEFT\n",
            "target: 12, closest: 10\n",
            "closest is now tree.value: 13\n",
            "target is 12 which is < tree.value 13: GO LEFT\n",
            "target: 12, closest: 13\n",
            "No Tree here!\n",
            "TEST! actual: 13, expected: 13\n"
          ],
          "name": "stdout"
        },
        {
          "output_type": "stream",
          "text": [
            "\n",
            "----------------------------------------------------------------------\n",
            "Ran 1 test in 0.002s\n",
            "\n",
            "OK\n"
          ],
          "name": "stderr"
        }
      ]
    },
    {
      "cell_type": "code",
      "metadata": {
        "colab": {
          "base_uri": "https://localhost:8080/"
        },
        "id": "dsb26md15uAQ",
        "outputId": "20c72adb-9acc-4f81-eb34-6400411459ee"
      },
      "source": [
        "import unittest\n",
        "\n",
        "def findClosestValueInBst(tree, target):\n",
        "  return findClosestValueInBstHelper(tree, target, tree.value)\n",
        "\n",
        "def findClosestValueInBstHelper(tree, target, closest):\n",
        "  print(\"target: %d, closest: %d\" % (target, closest))\n",
        "  while tree is not None:\n",
        "    if abs(target - closest) > abs(target - tree.value):\n",
        "      print(\"closest is now tree.value:\", tree.value)\n",
        "      closest = tree.value \n",
        "    if target < tree.value:\n",
        "      print(\"target is %d which is < tree.value %d: GO LEFT\" % (target, tree.value))\n",
        "      tree = tree.left\n",
        "    elif target > tree.value:\n",
        "      print(\"target is %d which is > tree.value %d: GO RIGHT\" % (target, tree.value))\n",
        "      tree = tree.right\n",
        "    else: #logically if it's not < or > than it is ==\n",
        "      break\n",
        "  return closest \n",
        "\n",
        "# This is the class of the input tree. Do not edit.\n",
        "class BST:\n",
        "    def __init__(self, value):\n",
        "        self.value = value\n",
        "        self.left = None\n",
        "        self.right = None\n",
        "\n",
        "class TestProgram(unittest.TestCase):\n",
        "    def test_case_1(self):\n",
        "        root = BST(10)\n",
        "        root.left = BST(5)\n",
        "        root.left.left = BST(2)\n",
        "        root.left.left.left = BST(1)\n",
        "        root.left.right = BST(5)\n",
        "        root.right = BST(15)\n",
        "        root.right.left = BST(13)\n",
        "        root.right.left.right = BST(14)\n",
        "        root.right.right = BST(22)\n",
        "        expected = 13\n",
        "        actual = findClosestValueInBst(root, 12)\n",
        "        print(\"TEST! actual: %d, expected: %d\" % (actual, expected))\n",
        "        self.assertEqual(expected, actual)\n",
        "\n",
        "\n",
        "if __name__ == '__main__':\n",
        "    unittest.main(argv=['first-arg-is-ignored'], exit=False) # Must be included for a unit test to run in Jupyter."
      ],
      "execution_count": 43,
      "outputs": [
        {
          "output_type": "stream",
          "text": [
            "."
          ],
          "name": "stderr"
        },
        {
          "output_type": "stream",
          "text": [
            "target: 12, closest: 10\n",
            "target is 12 which is > tree.value 10: GO RIGHT\n",
            "target is 12 which is < tree.value 15: GO LEFT\n",
            "closest is now tree.value: 13\n",
            "target is 12 which is < tree.value 13: GO LEFT\n",
            "TEST! actual: 13, expected: 13\n"
          ],
          "name": "stdout"
        },
        {
          "output_type": "stream",
          "text": [
            "\n",
            "----------------------------------------------------------------------\n",
            "Ran 1 test in 0.001s\n",
            "\n",
            "OK\n"
          ],
          "name": "stderr"
        }
      ]
    }
  ]
}